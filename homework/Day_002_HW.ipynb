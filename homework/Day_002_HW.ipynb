{
 "cells": [
  {
   "cell_type": "markdown",
   "metadata": {},
   "source": [
    "## [作業目標]\n",
    "了解機器學習適合應用的領域與範疇。"
   ]
  },
  {
   "cell_type": "markdown",
   "metadata": {},
   "source": [
    "## [作業重點]\n",
    "透過瞭解機器學習的運作方式，找出非常適用機器學習應用的領域及其原因"
   ]
  },
  {
   "cell_type": "markdown",
   "metadata": {},
   "source": [
    "## 作業\n",
    "請找出一個你認為機器學習可以發光發熱的領域並闡述原因? "
   ]
  },
  {
   "cell_type": "markdown",
   "metadata": {},
   "source": [
    "   * 領域：設備預防保養 (Predictive Maintenance)\n",
    "   * 好處：生產設備藉由機器學習來辨別機器耗損與健康狀況的模式，即可在壞掉之前，先進行維修保養，可延長設備可靠度與壽命，避免無預警當機(Unexpected Downtime)，亦可事先準備需要的零配件或替代方案，以及調整相應之生產排程。\n",
    "   * 應用範疇：\n",
    "           A. Remaining Useful Life (RUL): 預測剩餘壽命\n",
    "           B. Anomaly detection：提前檢知動態機械故障特徵，並偵測異常狀態\n",
    "           C. Failure diagnosis：診斷設備異常的原因，並提供處理方式"
   ]
  }
 ],
 "metadata": {
  "kernelspec": {
   "display_name": "Python 3",
   "language": "python",
   "name": "python3"
  },
  "language_info": {
   "codemirror_mode": {
    "name": "ipython",
    "version": 3
   },
   "file_extension": ".py",
   "mimetype": "text/x-python",
   "name": "python",
   "nbconvert_exporter": "python",
   "pygments_lexer": "ipython3",
   "version": "3.7.4"
  }
 },
 "nbformat": 4,
 "nbformat_minor": 2
}
