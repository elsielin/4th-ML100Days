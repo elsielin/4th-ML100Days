{
 "cells": [
  {
   "cell_type": "markdown",
   "metadata": {},
   "source": [
    "## 練習時間\n",
    "#### 請寫一個函式用來計算 Mean Square Error\n",
    "$ MSE = \\frac{1}{n}\\sum_{i=1}^{n}{(Y_i - \\hat{Y}_i)^2} $\n",
    "\n",
    "### Hint: [如何取平方](https://googoodesign.gitbooks.io/-ezpython/unit-1.html)"
   ]
  },
  {
   "cell_type": "markdown",
   "metadata": {},
   "source": [
    "# [作業目標]\n",
    "- 仿造範例的MAE函數, 自己寫一個MSE函數(參考上面公式)"
   ]
  },
  {
   "cell_type": "markdown",
   "metadata": {},
   "source": [
    "# [作業重點]\n",
    "- 注意程式的縮排\n",
    "- 是否能將數學公式, 轉換為 Python 的函式組合? (In[2], Out[2])"
   ]
  },
  {
   "cell_type": "code",
   "execution_count": 22,
   "metadata": {},
   "outputs": [],
   "source": [
    "import numpy as np\n",
    "import matplotlib.pyplot as plt"
   ]
  },
  {
   "cell_type": "code",
   "execution_count": 31,
   "metadata": {},
   "outputs": [],
   "source": [
    "def mean_absolute_error(y, yp):\n",
    "\n",
    "    #mae = MAE = sum(abs(y - yp)) / len(y)\n",
    "    return sum(abs(y - yp)) / len(y)\n",
    "\n",
    "def mean_squared_error(y, yp):\n",
    "\n",
    "    #mse = MSE = np.mean((y - yp)**2)\n",
    "    return np.mean((y - yp)**2)"
   ]
  },
  {
   "cell_type": "code",
   "execution_count": 32,
   "metadata": {},
   "outputs": [
    {
     "data": {
      "image/png": "[encoded data removed]",
      "text/plain": [
       "<Figure size 432x288 with 1 Axes>"
      ]
     },
     "metadata": {
      "needs_background": "light"
     },
     "output_type": "display_data"
    }
   ],
   "source": [
    "w = 3\n",
    "b = 0.5\n",
    "\n",
    "x_lin = np.linspace(0, 100, 101)\n",
    "\n",
    "y = (x_lin + np.random.randn(101) * 5) * w + b\n",
    "\n",
    "plt.plot(x_lin, y, 'b.', label = 'data points')\n",
    "plt.title(\"Assume we have data points\")\n",
    "plt.legend(loc = 2)\n",
    "plt.show()"
   ]
  },
  {
   "cell_type": "code",
   "execution_count": 33,
   "metadata": {},
   "outputs": [
    {
     "data": {
      "image/png": "[encoded data removed]",
      "text/plain": [
       "<Figure size 432x288 with 1 Axes>"
      ]
     },
     "metadata": {
      "needs_background": "light"
     },
     "output_type": "display_data"
    }
   ],
   "source": [
    "y_hat = x_lin * w + b\n",
    "plt.plot(x_lin, y, 'b.', label = 'data')\n",
    "plt.plot(x_lin, y_hat, 'r-', label = 'prediction')\n",
    "plt.title(\"Assume we have data points (And the prediction)\")\n",
    "plt.legend(loc = 2)\n",
    "plt.show()"
   ]
  },
  {
   "cell_type": "code",
   "execution_count": 35,
   "metadata": {},
   "outputs": [
    {
     "name": "stdout",
     "output_type": "stream",
     "text": [
      "The Mean squared error is 209.257\n",
      "The Mean absolute error is 11.431\n"
     ]
    }
   ],
   "source": [
    "MSE = mean_squared_error(y, y_hat)\n",
    "MAE = mean_absolute_error(y, y_hat)\n",
    "print(\"The Mean squared error is %.3f\" % (MSE))\n",
    "print(\"The Mean absolute error is %.3f\" % (MAE))"
   ]
  },
  {
   "cell_type": "markdown",
   "metadata": {},
   "source": [
    "# [作業2]\n",
    "\n",
    "請上 Kaggle, 在 Competitions 或 Dataset 中找一組競賽或資料並寫下：\n",
    "\n",
    "1. 你選的這組資料為何重要\n",
    "    \n",
    "   * 時值 Corona virus 快速擴散的期間，藉由過去的數據來預估未來病毒擴散的狀況和地點，做疫情走勢分析，以進一步掌控與防疫。\n",
    "\n",
    "\n",
    "2. 資料從何而來 \n",
    "\n",
    "   * 資料來源為 Kaggle Dataset: Novel Corona Virus 2019 Dataset \n",
    "   * https://www.kaggle.com/sudalairajkumar/novel-corona-virus-2019-dataset \n",
    "   \n",
    "   * 此份資料為 2019 新型冠狀病毒每日確診、死亡與康復人數。由 2020/1/22 開始提供，每日更新累積人數。\n",
    "\n",
    "\n",
    "3. 蒐集而來的資料型態為何\n",
    "\n",
    "    * Sno - 序列號\n",
    "    * Date - 觀察日期和時間（MM/DD/YYYY HH:MM:SS）\n",
    "    * Province / State - 觀察的省或州\n",
    "    * Country - 國家\n",
    "    * Last Update - 以觀察的省或國家的 UTC 時間作為更新時間\n",
    "    * Confirmed - 確診人數\n",
    "    * Deaths - 死亡人數\n",
    "    * Recovered - 康復人數\n",
    "    \n",
    "\n",
    "4. 這組資料想解決的問題如何評估\n",
    "\n",
    "    * 預測未來時間序列在不同地區的感染人數\n",
    "    * 預測未來時間序列在不同地區的致死率與康復率\n",
    "\n",
    "\n",
    "\n",
    "# [作業3]\n",
    "\n",
    "想像你經營一個自由載客車隊，你希望能透過數據分析以提升業績，請你思考並描述你如何規劃整體的分析/解決方案：\n",
    "\n",
    "1. 核心問題為何 (tips：如何定義 「提升業績 & 你的假設」)\n",
    "    \n",
    "    1.1 提升業績定義：增加公司營業收入\n",
    "    \n",
    "    1.2 方式\n",
    "        * 增加業務機會(Opportunity)：分析有需求的時間、地點與其他條件(天氣)\n",
    "        * 提升載客率(Capacity)：供需狀況、派車效率\n",
    "    \n",
    "    1.3 假設與限制\n",
    "        * 公司有運營系統與紀錄\n",
    "        * 費率為線性計費\n",
    "        * 不考慮競爭狀況\n",
    "\n",
    "\n",
    "2. 資料從何而來 (tips：哪些資料可能會對你想問的問題產生影響 & 資料如何蒐集)\n",
    "\n",
    "    2.1 乘客的叫車時間、上下車時間、上下車地點、行程距離、車資\n",
    "        * 資料來源：司機運營系統 (GPS, 收據/計費錶)\n",
    "    2.2 司機接單時間、載客次數\n",
    "        * 資料來源：司機運營系統\n",
    "    2.2 叫車時段與地點相應的天氣條件\n",
    "        * 資料來源：中央氣象局-開放資料平臺\n",
    "    2.3 車輛調度時間\n",
    "        * 資料來源：運算，乘客叫車時間 - 司機接單時間\n",
    "    2.4 乘客候車時間\n",
    "        * 資料來源：運算，乘客上車時間 - 叫車時間\n",
    "    2.5 乘客叫車成功率\n",
    "        * 資料來源：運算，派車次數 / 叫車次數 * 100%\n",
    "    2.6 司機每日收入\n",
    "        * 資料來源：每日車資加總\n",
    "    2.7 司機每日工時\n",
    "        * 資料來源：加總當日每趟(乘客下車時間 - 司機接單時間)\n",
    "\n",
    "\n",
    "3. 蒐集而來的資料型態為何\n",
    "\n",
    "    * 數值型資料：時間(叫車/接單/上下車/調度/候車)、叫車成功率、司機每日收入、載客次數、地點、距離、車資\n",
    "    * 類別型資料：時間轉換時間段、地點轉換地區、天氣狀況、距離轉換短中長途\n",
    "\n",
    "\n",
    "4. 你要回答的問題，其如何評估 (tips：你的假設如何驗證)\n",
    "\n",
    "    * 提升載客率：在對的時間將司機調度到對的地區，讓供與需交集最大。\n",
    "    * 評估方式：調度機制調整前後的全體司機收入與工時之差異\n",
    "        \n"
   ]
  },
  {
   "cell_type": "code",
   "execution_count": null,
   "metadata": {},
   "outputs": [],
   "source": []
  }
 ],
 "metadata": {
  "anaconda-cloud": {},
  "celltoolbar": "Edit Metadata",
  "kernelspec": {
   "display_name": "Python 3",
   "language": "python",
   "name": "python3"
  },
  "language_info": {
   "codemirror_mode": {
    "name": "ipython",
    "version": 3
   },
   "file_extension": ".py",
   "mimetype": "text/x-python",
   "name": "python",
   "nbconvert_exporter": "python",
   "pygments_lexer": "ipython3",
   "version": "3.7.4"
  }
 },
 "nbformat": 4,
 "nbformat_minor": 1
}
